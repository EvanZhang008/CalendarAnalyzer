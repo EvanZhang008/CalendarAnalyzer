{
 "cells": [
  {
   "cell_type": "markdown",
   "id": "b21c507a-bd3a-4af7-ada9-4cf67a7225e5",
   "metadata": {},
   "source": [
    "# Telegram data manipulation"
   ]
  },
  {
   "cell_type": "code",
   "execution_count": null,
   "id": "e7f38a15-44bb-474a-a161-8d128501e2d0",
   "metadata": {},
   "outputs": [],
   "source": [
    "import json\n",
    "from pathlib import Path\n",
    "import pandas as pd"
   ]
  },
  {
   "cell_type": "code",
   "execution_count": null,
   "id": "272e594e-91ee-4fcc-a038-c364407ae77d",
   "metadata": {},
   "outputs": [],
   "source": [
    "p = Path() / \"data\"/ \"telegram\" / \"result.json\"\n",
    "assert p.exists()"
   ]
  },
  {
   "cell_type": "code",
   "execution_count": null,
   "id": "db6045dd-83b6-43ae-ad36-b1238aad9b5a",
   "metadata": {},
   "outputs": [],
   "source": [
    "with open(p, \"r\") as f:\n",
    "    f_content = json.load(f)"
   ]
  },
  {
   "cell_type": "code",
   "execution_count": null,
   "id": "c1c3fd14-bb46-47e0-8cd0-97cbeb56e094",
   "metadata": {},
   "outputs": [],
   "source": [
    "f_content.keys()"
   ]
  },
  {
   "cell_type": "code",
   "execution_count": null,
   "id": "d6f281da-8d76-434c-88b7-02d439568adb",
   "metadata": {},
   "outputs": [],
   "source": [
    "chats = f_content['chats']['list']"
   ]
  },
  {
   "cell_type": "code",
   "execution_count": null,
   "id": "4e55f0b8-da07-43b4-9b3c-1cf17f992eab",
   "metadata": {},
   "outputs": [],
   "source": [
    "for idx in range(len(chats)):\n",
    "    chats[idx][\"messages_len\"] = len(chats[idx][\"messages\"])\n",
    "pd.DataFrame(chats)"
   ]
  },
  {
   "cell_type": "code",
   "execution_count": null,
   "id": "e073018a-5301-4c77-ab9f-f79f82160392",
   "metadata": {},
   "outputs": [],
   "source": [
    "df = pd.DataFrame(chats, columns=[\"name\", \"messages_len\"])\n",
    "df = df.sort_values(\"messages_len\", ascending=False)\n",
    "df"
   ]
  },
  {
   "cell_type": "code",
   "execution_count": null,
   "id": "c7213688-067b-44fb-9de2-fbe68e1123f3",
   "metadata": {},
   "outputs": [],
   "source": []
  }
 ],
 "metadata": {
  "kernelspec": {
   "display_name": "Python 3",
   "language": "python",
   "name": "python3"
  },
  "language_info": {
   "codemirror_mode": {
    "name": "ipython",
    "version": 3
   },
   "file_extension": ".py",
   "mimetype": "text/x-python",
   "name": "python",
   "nbconvert_exporter": "python",
   "pygments_lexer": "ipython3",
   "version": "3.9.7"
  }
 },
 "nbformat": 4,
 "nbformat_minor": 5
}
